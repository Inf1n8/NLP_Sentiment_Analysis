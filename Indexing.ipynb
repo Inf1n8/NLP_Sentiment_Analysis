{
 "cells": [
  {
   "cell_type": "code",
   "execution_count": 82,
   "metadata": {},
   "outputs": [],
   "source": [
    "import pandas as pd\n",
    "import numpy as np\n",
    "from nltk.corpus import stopwords\n",
    "import re\n",
    "import ast"
   ]
  },
  {
   "cell_type": "markdown",
   "metadata": {},
   "source": [
    "# Read the data"
   ]
  },
  {
   "cell_type": "code",
   "execution_count": 2,
   "metadata": {},
   "outputs": [
    {
     "data": {
      "text/html": [
       "<div>\n",
       "<style scoped>\n",
       "    .dataframe tbody tr th:only-of-type {\n",
       "        vertical-align: middle;\n",
       "    }\n",
       "\n",
       "    .dataframe tbody tr th {\n",
       "        vertical-align: top;\n",
       "    }\n",
       "\n",
       "    .dataframe thead th {\n",
       "        text-align: right;\n",
       "    }\n",
       "</style>\n",
       "<table border=\"1\" class=\"dataframe\">\n",
       "  <thead>\n",
       "    <tr style=\"text-align: right;\">\n",
       "      <th></th>\n",
       "      <th>review_id</th>\n",
       "      <th>text</th>\n",
       "    </tr>\n",
       "  </thead>\n",
       "  <tbody>\n",
       "    <tr>\n",
       "      <th>0</th>\n",
       "      <td>x7mDIiDB3jEiPGPHOmDzyw</td>\n",
       "      <td>The pizza was okay. Not the best I've had. I p...</td>\n",
       "    </tr>\n",
       "    <tr>\n",
       "      <th>1</th>\n",
       "      <td>dDl8zu1vWPdKGihJrwQbpw</td>\n",
       "      <td>I love this place! My fiance And I go here atl...</td>\n",
       "    </tr>\n",
       "    <tr>\n",
       "      <th>2</th>\n",
       "      <td>LZp4UX5zK3e-c5ZGSeo3kA</td>\n",
       "      <td>Terrible. Dry corn bread. Rib tips were all fa...</td>\n",
       "    </tr>\n",
       "    <tr>\n",
       "      <th>3</th>\n",
       "      <td>Er4NBWCmCD4nM8_p1GRdow</td>\n",
       "      <td>Back in 2005-2007 this place was my FAVORITE t...</td>\n",
       "    </tr>\n",
       "    <tr>\n",
       "      <th>4</th>\n",
       "      <td>jsDu6QEJHbwP2Blom1PLCA</td>\n",
       "      <td>Delicious healthy food. The steak is amazing. ...</td>\n",
       "    </tr>\n",
       "  </tbody>\n",
       "</table>\n",
       "</div>"
      ],
      "text/plain": [
       "                review_id                                               text\n",
       "0  x7mDIiDB3jEiPGPHOmDzyw  The pizza was okay. Not the best I've had. I p...\n",
       "1  dDl8zu1vWPdKGihJrwQbpw  I love this place! My fiance And I go here atl...\n",
       "2  LZp4UX5zK3e-c5ZGSeo3kA  Terrible. Dry corn bread. Rib tips were all fa...\n",
       "3  Er4NBWCmCD4nM8_p1GRdow  Back in 2005-2007 this place was my FAVORITE t...\n",
       "4  jsDu6QEJHbwP2Blom1PLCA  Delicious healthy food. The steak is amazing. ..."
      ]
     },
     "execution_count": 2,
     "metadata": {},
     "output_type": "execute_result"
    }
   ],
   "source": [
    "data = pd.read_csv('data.csv')\n",
    "data =data[['review_id', 'text']]\n",
    "data.head()"
   ]
  },
  {
   "cell_type": "code",
   "execution_count": 3,
   "metadata": {},
   "outputs": [],
   "source": [
    "# data.loc[data['review_id'].isin(['x7mDIiDB3jEiPGPHOmDzyw','Er4NBWCmCD4nM8_p1GRdow','dDl8zu1vWPdKGihJrwQbpw'])]"
   ]
  },
  {
   "cell_type": "code",
   "execution_count": 19,
   "metadata": {},
   "outputs": [],
   "source": [
    "stop = stopwords.words('english')"
   ]
  },
  {
   "cell_type": "code",
   "execution_count": 20,
   "metadata": {},
   "outputs": [],
   "source": [
    "data['without_stopwords'] = data['text'].apply(lambda x: ' '.join([re.sub('[^a-zA-Z]', ' ',word) for word in x.lower().split() if word not in (stop)]))"
   ]
  },
  {
   "cell_type": "code",
   "execution_count": 21,
   "metadata": {
    "scrolled": true
   },
   "outputs": [
    {
     "data": {
      "text/html": [
       "<div>\n",
       "<style scoped>\n",
       "    .dataframe tbody tr th:only-of-type {\n",
       "        vertical-align: middle;\n",
       "    }\n",
       "\n",
       "    .dataframe tbody tr th {\n",
       "        vertical-align: top;\n",
       "    }\n",
       "\n",
       "    .dataframe thead th {\n",
       "        text-align: right;\n",
       "    }\n",
       "</style>\n",
       "<table border=\"1\" class=\"dataframe\">\n",
       "  <thead>\n",
       "    <tr style=\"text-align: right;\">\n",
       "      <th></th>\n",
       "      <th>review_id</th>\n",
       "      <th>text</th>\n",
       "      <th>without_stopwords</th>\n",
       "    </tr>\n",
       "  </thead>\n",
       "  <tbody>\n",
       "    <tr>\n",
       "      <th>0</th>\n",
       "      <td>x7mDIiDB3jEiPGPHOmDzyw</td>\n",
       "      <td>The pizza was okay. Not the best I've had. I p...</td>\n",
       "      <td>pizza okay  best i ve had  prefer biaggio s fl...</td>\n",
       "    </tr>\n",
       "    <tr>\n",
       "      <th>1</th>\n",
       "      <td>dDl8zu1vWPdKGihJrwQbpw</td>\n",
       "      <td>I love this place! My fiance And I go here atl...</td>\n",
       "      <td>love place  fiance go atleast week  portions h...</td>\n",
       "    </tr>\n",
       "    <tr>\n",
       "      <th>2</th>\n",
       "      <td>LZp4UX5zK3e-c5ZGSeo3kA</td>\n",
       "      <td>Terrible. Dry corn bread. Rib tips were all fa...</td>\n",
       "      <td>terrible  dry corn bread  rib tips fat mushy f...</td>\n",
       "    </tr>\n",
       "    <tr>\n",
       "      <th>3</th>\n",
       "      <td>Er4NBWCmCD4nM8_p1GRdow</td>\n",
       "      <td>Back in 2005-2007 this place was my FAVORITE t...</td>\n",
       "      <td>back           place favorite thai place ever ...</td>\n",
       "    </tr>\n",
       "    <tr>\n",
       "      <th>4</th>\n",
       "      <td>jsDu6QEJHbwP2Blom1PLCA</td>\n",
       "      <td>Delicious healthy food. The steak is amazing. ...</td>\n",
       "      <td>delicious healthy food  steak amazing  fish po...</td>\n",
       "    </tr>\n",
       "  </tbody>\n",
       "</table>\n",
       "</div>"
      ],
      "text/plain": [
       "                review_id                                               text  \\\n",
       "0  x7mDIiDB3jEiPGPHOmDzyw  The pizza was okay. Not the best I've had. I p...   \n",
       "1  dDl8zu1vWPdKGihJrwQbpw  I love this place! My fiance And I go here atl...   \n",
       "2  LZp4UX5zK3e-c5ZGSeo3kA  Terrible. Dry corn bread. Rib tips were all fa...   \n",
       "3  Er4NBWCmCD4nM8_p1GRdow  Back in 2005-2007 this place was my FAVORITE t...   \n",
       "4  jsDu6QEJHbwP2Blom1PLCA  Delicious healthy food. The steak is amazing. ...   \n",
       "\n",
       "                                   without_stopwords  \n",
       "0  pizza okay  best i ve had  prefer biaggio s fl...  \n",
       "1  love place  fiance go atleast week  portions h...  \n",
       "2  terrible  dry corn bread  rib tips fat mushy f...  \n",
       "3  back           place favorite thai place ever ...  \n",
       "4  delicious healthy food  steak amazing  fish po...  "
      ]
     },
     "execution_count": 21,
     "metadata": {},
     "output_type": "execute_result"
    }
   ],
   "source": [
    "data.head()"
   ]
  },
  {
   "cell_type": "code",
   "execution_count": 34,
   "metadata": {},
   "outputs": [],
   "source": [
    "dataIndex = {}\n",
    "uniqueWords = []"
   ]
  },
  {
   "cell_type": "code",
   "execution_count": 36,
   "metadata": {},
   "outputs": [],
   "source": [
    "for i in range(len(data)):\n",
    "    li=data['without_stopwords'][i].split()\n",
    "    for j in li:\n",
    "        d={'index':[], 'review_id':[]}\n",
    "        if j not in uniqueWords:\n",
    "            uniqueWords.append(j)\n",
    "            d['index'].append(i)\n",
    "            d['review_id'].append(data['review_id'][i])\n",
    "            dataIndex[j] = d\n",
    "        else:\n",
    "            if data['review_id'][i] not in dataIndex[j]['review_id']:\n",
    "                dataIndex[j]['review_id'].append(data['review_id'][i])\n",
    "                dataIndex[j]['index'].append(i)"
   ]
  },
  {
   "cell_type": "code",
   "execution_count": 40,
   "metadata": {
    "scrolled": true
   },
   "outputs": [],
   "source": [
    "frameset = []\n",
    "for key, val in dataIndex.items():\n",
    "    frameset.append([key, val['index'], val['review_id']])\n",
    "df = pd.DataFrame(frameset,columns=['word','index','review_id'])"
   ]
  },
  {
   "cell_type": "code",
   "execution_count": 71,
   "metadata": {},
   "outputs": [
    {
     "data": {
      "text/html": [
       "<div>\n",
       "<style scoped>\n",
       "    .dataframe tbody tr th:only-of-type {\n",
       "        vertical-align: middle;\n",
       "    }\n",
       "\n",
       "    .dataframe tbody tr th {\n",
       "        vertical-align: top;\n",
       "    }\n",
       "\n",
       "    .dataframe thead th {\n",
       "        text-align: right;\n",
       "    }\n",
       "</style>\n",
       "<table border=\"1\" class=\"dataframe\">\n",
       "  <thead>\n",
       "    <tr style=\"text-align: right;\">\n",
       "      <th></th>\n",
       "      <th>word</th>\n",
       "      <th>index</th>\n",
       "      <th>review_id</th>\n",
       "    </tr>\n",
       "  </thead>\n",
       "  <tbody>\n",
       "    <tr>\n",
       "      <th>0</th>\n",
       "      <td>pizza</td>\n",
       "      <td>[0, 5, 124, 127, 129, 138, 140, 149, 150, 161,...</td>\n",
       "      <td>[x7mDIiDB3jEiPGPHOmDzyw, pfavA0hr3nyqO61oupj-l...</td>\n",
       "    </tr>\n",
       "    <tr>\n",
       "      <th>1</th>\n",
       "      <td>okay</td>\n",
       "      <td>[0, 23, 108, 133, 135, 138, 261, 263, 296, 299...</td>\n",
       "      <td>[x7mDIiDB3jEiPGPHOmDzyw, MTrzrLQT_LK2VLK9xantH...</td>\n",
       "    </tr>\n",
       "    <tr>\n",
       "      <th>2</th>\n",
       "      <td>best</td>\n",
       "      <td>[0, 6, 15, 20, 33, 37, 41, 42, 43, 63, 70, 103...</td>\n",
       "      <td>[x7mDIiDB3jEiPGPHOmDzyw, brokEno2n7s4vrwmmUdr9...</td>\n",
       "    </tr>\n",
       "    <tr>\n",
       "      <th>3</th>\n",
       "      <td>i</td>\n",
       "      <td>[0, 3, 5, 6, 7, 9, 20, 23, 39, 41, 42, 46, 49,...</td>\n",
       "      <td>[x7mDIiDB3jEiPGPHOmDzyw, Er4NBWCmCD4nM8_p1GRdo...</td>\n",
       "    </tr>\n",
       "    <tr>\n",
       "      <th>4</th>\n",
       "      <td>ve</td>\n",
       "      <td>[0, 5, 6, 9, 20, 39, 41, 52, 54, 65, 76, 82, 8...</td>\n",
       "      <td>[x7mDIiDB3jEiPGPHOmDzyw, pfavA0hr3nyqO61oupj-l...</td>\n",
       "    </tr>\n",
       "  </tbody>\n",
       "</table>\n",
       "</div>"
      ],
      "text/plain": [
       "    word                                              index  \\\n",
       "0  pizza  [0, 5, 124, 127, 129, 138, 140, 149, 150, 161,...   \n",
       "1   okay  [0, 23, 108, 133, 135, 138, 261, 263, 296, 299...   \n",
       "2   best  [0, 6, 15, 20, 33, 37, 41, 42, 43, 63, 70, 103...   \n",
       "3      i  [0, 3, 5, 6, 7, 9, 20, 23, 39, 41, 42, 46, 49,...   \n",
       "4     ve  [0, 5, 6, 9, 20, 39, 41, 52, 54, 65, 76, 82, 8...   \n",
       "\n",
       "                                           review_id  \n",
       "0  [x7mDIiDB3jEiPGPHOmDzyw, pfavA0hr3nyqO61oupj-l...  \n",
       "1  [x7mDIiDB3jEiPGPHOmDzyw, MTrzrLQT_LK2VLK9xantH...  \n",
       "2  [x7mDIiDB3jEiPGPHOmDzyw, brokEno2n7s4vrwmmUdr9...  \n",
       "3  [x7mDIiDB3jEiPGPHOmDzyw, Er4NBWCmCD4nM8_p1GRdo...  \n",
       "4  [x7mDIiDB3jEiPGPHOmDzyw, pfavA0hr3nyqO61oupj-l...  "
      ]
     },
     "execution_count": 71,
     "metadata": {},
     "output_type": "execute_result"
    }
   ],
   "source": [
    "df.head()"
   ]
  },
  {
   "cell_type": "code",
   "execution_count": 47,
   "metadata": {},
   "outputs": [],
   "source": [
    "df.to_csv('indexed_words.csv')"
   ]
  },
  {
   "cell_type": "code",
   "execution_count": 89,
   "metadata": {
    "scrolled": true
   },
   "outputs": [
    {
     "data": {
      "text/plain": [
       "'hiGKbKVj4hlF7GoNer4epA'"
      ]
     },
     "execution_count": 89,
     "metadata": {},
     "output_type": "execute_result"
    }
   ],
   "source": [
    "t = pd.read_csv('indexed_words.csv',error_bad_lines=False)\n",
    "t = t.set_index('word')\n",
    "t = t.iloc[:, 1:]\n",
    "ast.literal_eval(t.loc['pizza']['review_id'])"
   ]
  },
  {
   "cell_type": "code",
   "execution_count": null,
   "metadata": {},
   "outputs": [],
   "source": []
  }
 ],
 "metadata": {
  "kernelspec": {
   "display_name": "Python 3",
   "language": "python",
   "name": "python3"
  },
  "language_info": {
   "codemirror_mode": {
    "name": "ipython",
    "version": 3
   },
   "file_extension": ".py",
   "mimetype": "text/x-python",
   "name": "python",
   "nbconvert_exporter": "python",
   "pygments_lexer": "ipython3",
   "version": "3.6.5"
  }
 },
 "nbformat": 4,
 "nbformat_minor": 2
}
